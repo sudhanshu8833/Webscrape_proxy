{
 "cells": [
  {
   "cell_type": "code",
   "execution_count": null,
   "metadata": {},
   "outputs": [],
   "source": [
    "import requests\n",
    "import time\n",
    "import pandas as pd\n",
    "import numpy as np"
   ]
  },
  {
   "cell_type": "code",
   "execution_count": null,
   "metadata": {},
   "outputs": [],
   "source": [
    "endpoint=r\"https://api.tdameritrade.com/v1/marketdata/{}/pricehistory\".format(\"GOOG\")"
   ]
  },
  {
   "cell_type": "code",
   "execution_count": null,
   "metadata": {},
   "outputs": [],
   "source": [
    "payload={'apikey':'AKLMFGZ2FC84NJ3YWM6PL5ODHJNV5FEQ',\n",
    "        'periodtype':'day',\n",
    "        'frequencytpe':'hour',\n",
    "        'frequency':'4',\n",
    "        'period':'2',\n",
    "        'enddate':'1630454399',\n",
    "        'startdate':'1629776000'\n",
    "\n",
    "}"
   ]
  },
  {
   "cell_type": "code",
   "execution_count": null,
   "metadata": {},
   "outputs": [],
   "source": [
    "content=requests.get(url=endpoint,params=payload)"
   ]
  },
  {
   "cell_type": "code",
   "execution_count": null,
   "metadata": {},
   "outputs": [],
   "source": [
    "data=content.json()"
   ]
  },
  {
   "cell_type": "code",
   "execution_count": null,
   "metadata": {},
   "outputs": [],
   "source": [
    "data"
   ]
  },
  {
   "cell_type": "code",
   "execution_count": null,
   "metadata": {},
   "outputs": [],
   "source": [
    "data['candles'][0]"
   ]
  },
  {
   "cell_type": "code",
   "execution_count": null,
   "metadata": {},
   "outputs": [],
   "source": [
    "data['candles'][0]['datetime']\n",
    "time.strftime('%Y-%m-%d %H:%M:%S', time.localtime(data['candles'][0]['datetime']/1000))\n",
    "open=[]\n",
    "close=[]\n",
    "high=[]\n",
    "low=[]\n",
    "volume=[]\n",
    "datetime=[]\n",
    "\n",
    "for i in range(len(data['candles'])):\n",
    "    open.append(data['candles'][i]['open'])\n",
    "    high.append(data['candles'][i]['high'])\n",
    "    low.append(data['candles'][i]['low'])\n",
    "    close.append(data['candles'][i]['close'])\n",
    "    volume.append(data['candles'][i]['volume'])\n",
    "    datetime.append(time.strftime('%Y-%m-%d %H:%M:%S', time.localtime(data['candles'][i]['datetime']/1000)))\n",
    "\n",
    "df=pd.DataFrame()\n",
    "df['Open']=np.array(open)\n",
    "df['High']=np.array(high)\n",
    "df['Low']=np.array(low)\n",
    "df['Close']=np.array(close)\n",
    "df['Volume']=np.array(volume)\n",
    "df['DateTime']=np.array(datetime)\n",
    "df.set_index('DateTime').tail(50)"
   ]
  },
  {
   "cell_type": "code",
   "execution_count": null,
   "metadata": {},
   "outputs": [],
   "source": [
    "import yfinance as yf\n",
    "df1=yf.download('GOOG',period='1mo',interval='30m')\n",
    "\n",
    "\n"
   ]
  },
  {
   "cell_type": "code",
   "execution_count": null,
   "metadata": {},
   "outputs": [],
   "source": [
    "open=[]\n",
    "close=[]\n",
    "high=[]\n",
    "low=[]\n",
    "volume=[]\n",
    "datetime=[]\n",
    "\n",
    "for i in range(len(df1)):\n",
    "    if '09:30:00' in str(df1.index[i]):\n",
    "        open.append(df1['Open'][i])\n",
    "        close.append(df1['Adj Close'][i+4])\n",
    "        high.append(max(df1['High'][i],df1['High'][i+1],df1['High'][i+2],df1['High'][i+3],df1['High'][i+4]))\n",
    "        low.append(min(df1['Low'][i],df1['Low'][i+1],df1['Low'][i+2],df1['Low'][i+3],df1['Low'][i+4]))\n",
    "        volume.append(df1['Volume'][i]+df1['Volume'][i+1]+df1['Volume'][i+2]+df1['Volume'][i+3]+df1['Volume'][i+4])\n",
    "        datetime.append(str(df1.index[i]))\n",
    "\n",
    "    elif '12:00:00' in str(df1.index[i]):\n",
    "        open.append(df1['Open'][i])\n",
    "        close.append(df1['Adj Close'][i+7])\n",
    "        high.append(max(df1['High'][i],df1['High'][i+1],df1['High'][i+2],df1['High'][i+3],df1['High'][i+4],df1['High'][i+5],df1['High'][i+6],df1['High'][i+7]))\n",
    "        low.append(min(df1['Low'][i],df1['Low'][i+1],df1['Low'][i+2],df1['Low'][i+3],df1['Low'][i+4],df1['Low'][i+5],df1['Low'][i+6],df1['Low'][i+7]))\n",
    "        volume.append(df1['Volume'][i]+df1['Volume'][i+1]+df1['Volume'][i+2]+df1['Volume'][i+3]+df1['Volume'][i+4]+df1['Volume'][i+5]+df1['Volume'][i+6]+df1['Volume'][i+7])\n",
    "        datetime.append(str(df1.index[i]))\n",
    "\n",
    "df=pd.DataFrame()\n",
    "df['Open']=np.array(open)\n",
    "df['High']=np.array(high)\n",
    "df['Low']=np.array(low)\n",
    "df['Close']=np.array(close)\n",
    "df['Volume']=np.array(volume)\n",
    "df['DateTime']=np.array(datetime)\n",
    "df.set_index('DateTime',inplace=True)"
   ]
  },
  {
   "cell_type": "code",
   "execution_count": null,
   "metadata": {},
   "outputs": [],
   "source": [
    "import time\n",
    "import urllib\n",
    "import requests\n",
    "from splinter import Browser\n",
    "from selenium import webdriver\n",
    "\n",
    "executable_path={'executable_path':'/Users/sudhanshu/Desktop/algo-trading/PROJECTS/PROJECT7/chromedriver'}\n",
    "browser=Browser('chrome',**executable_path,headless=False)\n",
    "\n",
    "client_id='MX8PQ92PPJB10TWKDEM4YA6CSEFFV51P'\n",
    "\n",
    "method='GET'\n",
    "url='https://auth.tdameritrade.com/auth?'\n",
    "client_code='MX8PQ92PPJB10TWKDEM4YA6CSEFFV51P'+'@AMER.OAUTHAP'\n",
    "payload={'response_type':'code','redirect_uri':'https://www.google.com','client_id':client_code}\n",
    "built_url=requests.Request(method,url,params=payload).prepare()\n",
    "built_url=built_url.url\n"
   ]
  },
  {
   "cell_type": "code",
   "execution_count": null,
   "metadata": {},
   "outputs": [],
   "source": [
    "built_url"
   ]
  },
  {
   "cell_type": "code",
   "execution_count": null,
   "metadata": {},
   "outputs": [],
   "source": [
    "\n",
    "browser.visit(built_url)\n",
    "payload={'username':'shirley1968','password':'shirley1026'}\n",
    "browser.find_by_id('username0').first.fill(payload['username'])\n",
    "browser.find_by_id('password1').first.fill(payload['password'])\n",
    "browser.find_by_id('accept').first.click()\n",
    "\n",
    "browser.find_by_tag('summary').click()\n",
    "browser.find_by_name('init_secretquestion').click()\n",
    "data=browser.html\n",
    "\n",
    "if 'What was the first name of your first manager?' in data:\n",
    "    text='Azurin'\n",
    "\n",
    "elif 'What street did your best friend in high school live on?' in data:\n",
    "    text='Partelo'\n",
    "\n",
    "elif 'In what city was your mother born?' in data:\n",
    "    text='Vigan'\n",
    "\n",
    "elif 'What was the name of your high school?' in data:\n",
    "    text='Holy Spirit Academy'\n",
    "browser.find_by_id('secretquestion0').first.fill(text)\n",
    "browser.find_by_id('accept').click()\n",
    "time.sleep(5)\n",
    "data=browser.html\n",
    "if 'Yes, trust this device' in data:\n",
    "\n",
    "    browser.find_by_tag('label').click()\n",
    "    browser.find_by_value('Save').click()\n",
    "\n",
    "browser.find_by_id('accept').click()\n",
    "time.sleep(5)\n"
   ]
  },
  {
   "cell_type": "code",
   "execution_count": null,
   "metadata": {},
   "outputs": [],
   "source": [
    "new_url='https://www.google.com/?code=Ed3XXZXE%2Bv7o4Xa0PfmK3OptBh3dEbSu1%2F53mtEjDJ9pWjOatfqUXdC80ezsLP4fggwzk1M%2BPYneHvEAp4Bwm0gjW39rGTvC%2FxEG3P0fcJlnoh%2FAQJkALqMXoU5g8Zs3fnp%2Br7QpunftqRb585l1jeaT3iNgtmTQz9Yh%2BGSXLK2VPRQsnoU3wdXvPiHSGrvCEDONyEJN7KfXTWD9BTgxHSHyMLRMxnCeT471jP%2B%2Bn66waHiz0A7E6YSHwN2qd5mDc9ekp1LtDCDhTGk%2FCCk4R2Fv2lmziQXv701QR28AzzdCA5FuQ1ENDCWIcKLZj7ulCMJDf5cSLsM4fjt%2FDpdhxSiMYyY6mbmdD8Aty%2BGKOz5MPFKt9wU58JPhwH0XX%2B0gt4pUhRPZl3hKGGaul2mK8JchoazlCvl26ZDP7PQ06kFp1DRgtLfx2tCId7G100MQuG4LYrgoVi%2FJHHvlmYaNn0GFc%2BgnHo3hfDQYmGwpka8lwD3f6MLCD9DKAiokNlPM7Advme%2BPUK4IoXjmVDd9NQ7EV5y%2BrCgrKujL7Dilox5Fprf4b5WGNsT1BUA7pziEuZM80Qu8oW7qsazAfWcdBv3xXyuJgWnZGYReiEobYaWP94qF4hIuDbO6YlZ%2FyP3Op3YT%2Bl9U8WWG1sr7KpUfpp6OjQHpt1OkNexLIxVZwJgM9KX7WFs7dbuJDaovEoDoedQvdRtgrXKS0G1gVUI%2FrUqTXxPGZYMzZ190PXteTv0R%2Fpk3mdE979qpTNmPr6WYp4lVSGhHyTRZBR3rYV1bmtMT3wRVUl3l0YVcBNEsUkkgSZ0MSxr245MdQaUtTVp9SptqRMgieF%2FckcPqkctFjnZ%2B97UW6I64NXW57T7sSGRGKSOGOi6DD5G8eMKSY8RcehPN%2B%2BCzlNQ%3D212FD3x19z9sWBHDJACbC00B75E'"
   ]
  },
  {
   "cell_type": "code",
   "execution_count": null,
   "metadata": {},
   "outputs": [],
   "source": [
    "\n",
    "# new_url=browser.url\n",
    "parse_url=urllib.parse.unquote(new_url.split('code=')[1])\n",
    "url=r'https://api.tdameritrade.com/v1/oauth2/token'\n",
    "headers={'Content-Type':\"application/x-www-form-urlencoded\"}\n",
    "\n",
    "payload={'grant_type':'authorization_code',\n",
    "        'access_type':'offline',\n",
    "        'code':parse_url,\n",
    "        'client_id':client_id,\n",
    "        'redirect_uri':'https://www.google.com'}\n",
    "\n",
    "\n",
    "authReply=requests.post(url,headers=headers,data=payload)\n",
    "\n",
    "decoded_content=authReply.json()\n"
   ]
  },
  {
   "cell_type": "code",
   "execution_count": null,
   "metadata": {},
   "outputs": [],
   "source": [
    "decoded_content"
   ]
  },
  {
   "cell_type": "code",
   "execution_count": null,
   "metadata": {},
   "outputs": [],
   "source": [
    "df.tail(50)"
   ]
  },
  {
   "cell_type": "code",
   "execution_count": null,
   "metadata": {},
   "outputs": [],
   "source": [
    "df1.tail(50)"
   ]
  },
  {
   "cell_type": "code",
   "execution_count": null,
   "metadata": {},
   "outputs": [],
   "source": [
    "j=2\n",
    "k=3\n",
    "max(j,k)"
   ]
  },
  {
   "cell_type": "code",
   "execution_count": null,
   "metadata": {},
   "outputs": [],
   "source": [
    "if '09:30' in str(df1.index[0]):\n",
    "    print('true')\n",
    "\n"
   ]
  },
  {
   "cell_type": "code",
   "execution_count": null,
   "metadata": {},
   "outputs": [],
   "source": [
    "str(df.index[0])"
   ]
  },
  {
   "cell_type": "code",
   "execution_count": null,
   "metadata": {},
   "outputs": [],
   "source": [
    "str(df1.index[0])"
   ]
  },
  {
   "cell_type": "code",
   "execution_count": null,
   "metadata": {},
   "outputs": [],
   "source": [
    "df1.head(50)"
   ]
  },
  {
   "cell_type": "code",
   "execution_count": 4,
   "metadata": {},
   "outputs": [
    {
     "ename": "ElementDoesNotExist",
     "evalue": "no elements could be found with id \"username0\"",
     "output_type": "error",
     "traceback": [
      "\u001b[0;31m---------------------------------------------------------------------------\u001b[0m",
      "\u001b[0;31mIndexError\u001b[0m                                Traceback (most recent call last)",
      "\u001b[0;32m/Library/Frameworks/Python.framework/Versions/3.9/lib/python3.9/site-packages/splinter/element_list.py\u001b[0m in \u001b[0;36m__getitem__\u001b[0;34m(self, index)\u001b[0m\n\u001b[1;32m     41\u001b[0m         \u001b[0;32mtry\u001b[0m\u001b[0;34m:\u001b[0m\u001b[0;34m\u001b[0m\u001b[0;34m\u001b[0m\u001b[0m\n\u001b[0;32m---> 42\u001b[0;31m             \u001b[0;32mreturn\u001b[0m \u001b[0mself\u001b[0m\u001b[0;34m.\u001b[0m\u001b[0m_container\u001b[0m\u001b[0;34m[\u001b[0m\u001b[0mindex\u001b[0m\u001b[0;34m]\u001b[0m\u001b[0;34m\u001b[0m\u001b[0;34m\u001b[0m\u001b[0m\n\u001b[0m\u001b[1;32m     43\u001b[0m         \u001b[0;32mexcept\u001b[0m \u001b[0mIndexError\u001b[0m\u001b[0;34m:\u001b[0m\u001b[0;34m\u001b[0m\u001b[0;34m\u001b[0m\u001b[0m\n",
      "\u001b[0;31mIndexError\u001b[0m: list index out of range",
      "\nDuring handling of the above exception, another exception occurred:\n",
      "\u001b[0;31mElementDoesNotExist\u001b[0m                       Traceback (most recent call last)",
      "\u001b[0;32m<ipython-input-4-33fb6bcd03cb>\u001b[0m in \u001b[0;36m<module>\u001b[0;34m\u001b[0m\n\u001b[1;32m     19\u001b[0m \u001b[0mbrowser\u001b[0m\u001b[0;34m.\u001b[0m\u001b[0mvisit\u001b[0m\u001b[0;34m(\u001b[0m\u001b[0mbuilt_url\u001b[0m\u001b[0;34m)\u001b[0m\u001b[0;34m\u001b[0m\u001b[0;34m\u001b[0m\u001b[0m\n\u001b[1;32m     20\u001b[0m \u001b[0mpayload\u001b[0m\u001b[0;34m=\u001b[0m\u001b[0;34m{\u001b[0m\u001b[0;34m'username'\u001b[0m\u001b[0;34m:\u001b[0m\u001b[0;34m'shirley1968'\u001b[0m\u001b[0;34m,\u001b[0m\u001b[0;34m'password'\u001b[0m\u001b[0;34m:\u001b[0m\u001b[0;34m'shirley1026'\u001b[0m\u001b[0;34m}\u001b[0m\u001b[0;34m\u001b[0m\u001b[0;34m\u001b[0m\u001b[0m\n\u001b[0;32m---> 21\u001b[0;31m \u001b[0mbrowser\u001b[0m\u001b[0;34m.\u001b[0m\u001b[0mfind_by_id\u001b[0m\u001b[0;34m(\u001b[0m\u001b[0;34m'username0'\u001b[0m\u001b[0;34m)\u001b[0m\u001b[0;34m.\u001b[0m\u001b[0mfirst\u001b[0m\u001b[0;34m.\u001b[0m\u001b[0mfill\u001b[0m\u001b[0;34m(\u001b[0m\u001b[0mpayload\u001b[0m\u001b[0;34m[\u001b[0m\u001b[0;34m'username'\u001b[0m\u001b[0;34m]\u001b[0m\u001b[0;34m)\u001b[0m\u001b[0;34m\u001b[0m\u001b[0;34m\u001b[0m\u001b[0m\n\u001b[0m\u001b[1;32m     22\u001b[0m \u001b[0mbrowser\u001b[0m\u001b[0;34m.\u001b[0m\u001b[0mfind_by_id\u001b[0m\u001b[0;34m(\u001b[0m\u001b[0;34m'password1'\u001b[0m\u001b[0;34m)\u001b[0m\u001b[0;34m.\u001b[0m\u001b[0mfirst\u001b[0m\u001b[0;34m.\u001b[0m\u001b[0mfill\u001b[0m\u001b[0;34m(\u001b[0m\u001b[0mpayload\u001b[0m\u001b[0;34m[\u001b[0m\u001b[0;34m'password'\u001b[0m\u001b[0;34m]\u001b[0m\u001b[0;34m)\u001b[0m\u001b[0;34m\u001b[0m\u001b[0;34m\u001b[0m\u001b[0m\n\u001b[1;32m     23\u001b[0m \u001b[0mbrowser\u001b[0m\u001b[0;34m.\u001b[0m\u001b[0mfind_by_id\u001b[0m\u001b[0;34m(\u001b[0m\u001b[0;34m'accept'\u001b[0m\u001b[0;34m)\u001b[0m\u001b[0;34m.\u001b[0m\u001b[0mfirst\u001b[0m\u001b[0;34m.\u001b[0m\u001b[0mclick\u001b[0m\u001b[0;34m(\u001b[0m\u001b[0;34m)\u001b[0m\u001b[0;34m\u001b[0m\u001b[0;34m\u001b[0m\u001b[0m\n",
      "\u001b[0;32m/Library/Frameworks/Python.framework/Versions/3.9/lib/python3.9/site-packages/splinter/element_list.py\u001b[0m in \u001b[0;36mfirst\u001b[0;34m(self)\u001b[0m\n\u001b[1;32m     55\u001b[0m             \u001b[0;34m>>\u001b[0m\u001b[0;34m>\u001b[0m \u001b[0;32massert\u001b[0m \u001b[0melement_list\u001b[0m\u001b[0;34m[\u001b[0m\u001b[0;36m0\u001b[0m\u001b[0;34m]\u001b[0m \u001b[0;34m==\u001b[0m \u001b[0melement_list\u001b[0m\u001b[0;34m.\u001b[0m\u001b[0mfirst\u001b[0m\u001b[0;34m\u001b[0m\u001b[0;34m\u001b[0m\u001b[0m\n\u001b[1;32m     56\u001b[0m         \"\"\"\n\u001b[0;32m---> 57\u001b[0;31m         \u001b[0;32mreturn\u001b[0m \u001b[0mself\u001b[0m\u001b[0;34m[\u001b[0m\u001b[0;36m0\u001b[0m\u001b[0;34m]\u001b[0m\u001b[0;34m\u001b[0m\u001b[0;34m\u001b[0m\u001b[0m\n\u001b[0m\u001b[1;32m     58\u001b[0m \u001b[0;34m\u001b[0m\u001b[0m\n\u001b[1;32m     59\u001b[0m     \u001b[0;34m@\u001b[0m\u001b[0mproperty\u001b[0m\u001b[0;34m\u001b[0m\u001b[0;34m\u001b[0m\u001b[0m\n",
      "\u001b[0;32m/Library/Frameworks/Python.framework/Versions/3.9/lib/python3.9/site-packages/splinter/element_list.py\u001b[0m in \u001b[0;36m__getitem__\u001b[0;34m(self, index)\u001b[0m\n\u001b[1;32m     42\u001b[0m             \u001b[0;32mreturn\u001b[0m \u001b[0mself\u001b[0m\u001b[0;34m.\u001b[0m\u001b[0m_container\u001b[0m\u001b[0;34m[\u001b[0m\u001b[0mindex\u001b[0m\u001b[0;34m]\u001b[0m\u001b[0;34m\u001b[0m\u001b[0;34m\u001b[0m\u001b[0m\n\u001b[1;32m     43\u001b[0m         \u001b[0;32mexcept\u001b[0m \u001b[0mIndexError\u001b[0m\u001b[0;34m:\u001b[0m\u001b[0;34m\u001b[0m\u001b[0;34m\u001b[0m\u001b[0m\n\u001b[0;32m---> 44\u001b[0;31m             raise ElementDoesNotExist(\n\u001b[0m\u001b[1;32m     45\u001b[0m                 u'no elements could be found with {0} \"{1}\"'.format(\n\u001b[1;32m     46\u001b[0m                     \u001b[0mself\u001b[0m\u001b[0;34m.\u001b[0m\u001b[0mfind_by\u001b[0m\u001b[0;34m,\u001b[0m \u001b[0mself\u001b[0m\u001b[0;34m.\u001b[0m\u001b[0mquery\u001b[0m\u001b[0;34m\u001b[0m\u001b[0;34m\u001b[0m\u001b[0m\n",
      "\u001b[0;31mElementDoesNotExist\u001b[0m: no elements could be found with id \"username0\""
     ]
    }
   ],
   "source": [
    "import time\n",
    "import urllib\n",
    "import requests\n",
    "from splinter import Browser\n",
    "from selenium import webdriver\n",
    "\n",
    "executable_path={'executable_path':'/Users/sudhanshu/Desktop/algo-trading/PROJECTS/PROJECT21/chromedriver'}\n",
    "browser=Browser('chrome',**executable_path,headless=False)\n",
    "\n",
    "client_id='AKLMFGZ2FC84NJ3YWM6PL5ODHJNV5FEQ'\n",
    "\n",
    "method='GET'\n",
    "url='https://auth.tdameritrade.com/auth?'\n",
    "client_code='AKLMFGZ2FC84NJ3YWM6PL5ODHJNV5FEQ'+'@AMER.OAUTHAP'\n",
    "payload={'response_type':'code','redirect_uri':'https://www.google.com','client_id':client_code}\n",
    "built_url=requests.Request(method,url,params=payload).prepare()\n",
    "built_url=built_url.url\n",
    "\n",
    "browser.visit(built_url)\n",
    "payload={'username':'shirley1968','password':'shirley1026'}\n",
    "browser.find_by_id('username0').first.fill(payload['username'])\n",
    "browser.find_by_id('password1').first.fill(payload['password'])\n",
    "browser.find_by_id('accept').first.click()\n",
    "\n",
    "browser.find_by_tag('summary').click()\n",
    "browser.find_by_name('init_secretquestion').click()\n",
    "data=browser.html\n",
    "\n",
    "if 'What was the first name of your first manager?' in data:\n",
    "    text='Azurin'\n",
    "\n",
    "elif 'What street did your best friend in high school live on?' in data:\n",
    "    text='Partelo'\n",
    "\n",
    "elif 'In what city was your mother born?' in data:\n",
    "    text='Vigan'\n",
    "\n",
    "elif 'What was the name of your high school?' in data:\n",
    "    text='Holy Spirit Academy'\n",
    "browser.find_by_id('secretquestion0').first.fill(text)\n",
    "browser.find_by_id('accept').click()\n",
    "time.sleep(5)\n",
    "data=browser.html\n",
    "if 'Yes, trust this device' in data:\n",
    "\n",
    "    browser.find_by_tag('label').click()\n",
    "    browser.find_by_value('Save').click()\n",
    "\n",
    "browser.find_by_id('accept').click()\n",
    "time.sleep(5)\n",
    "new_url=browser.url\n",
    "parse_url=urllib.parse.unquote(new_url.split('code=')[1])\n",
    "url=r'https://api.tdameritrade.com/v1/oauth2/token'\n",
    "headers={'Content-Type':\"application/x-www-form-urlencoded\"}\n",
    "\n",
    "payload={'grant_type':'authorization_code',\n",
    "        'access_type':'offline',\n",
    "        'code':parse_url,\n",
    "        'client_id':client_id,\n",
    "        'redirect_uri':'https://www.google.com'}\n",
    "\n",
    "\n",
    "authReply=requests.post(url,headers=headers,data=payload)\n",
    "\n",
    "decoded_content=authReply.json()\n"
   ]
  },
  {
   "cell_type": "code",
   "execution_count": null,
   "metadata": {},
   "outputs": [],
   "source": [
    "decoded_content"
   ]
  },
  {
   "cell_type": "code",
   "execution_count": null,
   "metadata": {},
   "outputs": [],
   "source": [
    "decoded_content['refresh_token']"
   ]
  },
  {
   "cell_type": "code",
   "execution_count": null,
   "metadata": {},
   "outputs": [],
   "source": [
    "client_code"
   ]
  },
  {
   "cell_type": "code",
   "execution_count": null,
   "metadata": {},
   "outputs": [],
   "source": []
  },
  {
   "cell_type": "code",
   "execution_count": null,
   "metadata": {},
   "outputs": [],
   "source": [
    "url='https://api.tdameritrade.com/v1/oauth2/token'\n",
    "\n",
    "payload={'grant_type':'refresh_token',\n",
    "        'refresh_token':decoded_content['refresh_token'],\n",
    "        \n",
    "\n",
    "        'client_id':'AKLMFGZ2FC84NJ3YWM6PL5ODHJNV5FEQ'\n",
    "       }\n",
    "authReply=requests.post(url,data=payload)\n"
   ]
  },
  {
   "cell_type": "code",
   "execution_count": null,
   "metadata": {},
   "outputs": [],
   "source": [
    "authReply.json()"
   ]
  },
  {
   "cell_type": "code",
   "execution_count": null,
   "metadata": {},
   "outputs": [],
   "source": [
    "access_token=decoded_content['access_token']\n",
    "headers={'Authorization':'Bearer {}'.format(access_token)}"
   ]
  },
  {
   "cell_type": "code",
   "execution_count": null,
   "metadata": {},
   "outputs": [],
   "source": [
    "endpoint=r\"https://api.tdameritrade.com/v1/accounts\"\n",
    "content=requests.get(url=endpoint, headers=headers)\n",
    "data=content.json()\n",
    "account_id=data[0]['securitiesAccount']['accountId']"
   ]
  },
  {
   "cell_type": "code",
   "execution_count": null,
   "metadata": {},
   "outputs": [],
   "source": [
    "account_id"
   ]
  },
  {
   "cell_type": "code",
   "execution_count": null,
   "metadata": {},
   "outputs": [],
   "source": [
    "data"
   ]
  },
  {
   "cell_type": "code",
   "execution_count": null,
   "metadata": {},
   "outputs": [],
   "source": [
    "parse_url"
   ]
  },
  {
   "cell_type": "code",
   "execution_count": null,
   "metadata": {},
   "outputs": [],
   "source": [
    "import datetime as dt"
   ]
  },
  {
   "cell_type": "code",
   "execution_count": null,
   "metadata": {},
   "outputs": [],
   "source": []
  },
  {
   "cell_type": "code",
   "execution_count": null,
   "metadata": {},
   "outputs": [],
   "source": [
    "\n",
    "\n",
    "\n",
    "# %%\n",
    "from finta import TA\n",
    "import yfinance as yf\n",
    "import numpy as np\n",
    "import pandas as pd\n",
    "import yfinance as yf\n",
    "from alpha_vantage.timeseries import TimeSeries\n",
    "import datetime as dt\n",
    "import copy\n",
    "import matplotlib.pyplot as plt\n",
    "import time\n",
    "import json\n",
    "\n",
    "from csv import writer\n",
    "\n",
    "from smartapi import SmartConnect \n",
    "obj=SmartConnect(api_key=\"xucd0zCg\")\n",
    "data = obj.generateSession(\"S776051\",\"Madhya246###\")\n",
    "refreshToken= data['data']['refreshToken']\n",
    "feedToken=obj.getfeedToken()\n",
    "userProfile= obj.getProfile(refreshToken)\n",
    "\n",
    "\n",
    "def candles(instrument):\n",
    "        \n",
    "    ohlc_intraday=pd.DataFrame()\n",
    "\n",
    "    historicParam={\n",
    "    \"exchange\": \"NSE\",\n",
    "    \"symboltoken\": str(instrument),\n",
    "    \"interval\": \"FIVE_MINUTE\",\n",
    "    \"fromdate\": dt.datetime.today()-dt.timedelta(40), \n",
    "    \"todate\": dt.datetime.today()\n",
    "    }\n",
    "\n",
    "    data=obj.getCandleData(historicParam)\n",
    "\n",
    "    data=pd.DataFrame(data)[\"data\"]\n",
    "    open=[]\n",
    "    close=[]\n",
    "    high=[]\n",
    "    low=[]\n",
    "    volume=[]\n",
    "    index=[]\n",
    "    for i in range(len(data)):\n",
    "        open.append(data[i][1])\n",
    "\n",
    "    for i in range(len(data)):\n",
    "        close.append(data[i][4])\n",
    "\n",
    "    for i in range(len(data)):\n",
    "        high.append(data[i][2])\n",
    "\n",
    "    for i in range(len(data)):\n",
    "        low.append(data[i][3])\n",
    "\n",
    "    for i in range(len(data)):\n",
    "        index.append(data[i][0])\n",
    "\n",
    "    for i in range(len(data)):\n",
    "        volume.append(data[i][5])\n",
    "\n",
    "\n",
    "    ohlc_intraday[\"Datetime\"]=np.array(index)\n",
    "    ohlc_intraday[\"Open\"]=np.array(open)\n",
    "    ohlc_intraday[\"High\"]=np.array(high)\n",
    "    ohlc_intraday[\"Low\"]=np.array(low)\n",
    "\n",
    "    ohlc_intraday[\"Close\"]=np.array(close)\n",
    "    ohlc_intraday[\"volume\"]=np.array(volume)\n",
    "    ohlc_intraday.set_index(\"Datetime\",inplace=True)\n",
    "\n",
    "    return ohlc_intraday\n"
   ]
  },
  {
   "cell_type": "code",
   "execution_count": null,
   "metadata": {},
   "outputs": [],
   "source": []
  },
  {
   "cell_type": "code",
   "execution_count": null,
   "metadata": {},
   "outputs": [],
   "source": [
    "import yfinance as yf\n",
    "df=yf.download('MSFT', period='1mo', interval='30m')"
   ]
  },
  {
   "cell_type": "code",
   "execution_count": null,
   "metadata": {},
   "outputs": [],
   "source": [
    "df.head(20)"
   ]
  },
  {
   "cell_type": "code",
   "execution_count": null,
   "metadata": {},
   "outputs": [],
   "source": [
    "len(df[-2:])"
   ]
  },
  {
   "cell_type": "code",
   "execution_count": null,
   "metadata": {},
   "outputs": [],
   "source": [
    "from finta import TA"
   ]
  },
  {
   "cell_type": "code",
   "execution_count": null,
   "metadata": {},
   "outputs": [],
   "source": [
    "def candle(instrument,timeframe):\n",
    "    df=yf.download(instrument+'.NS',period='1mo',interval=str(timeframe))\n",
    "    df['EMA_low']=TA.EMA(df,1)\n",
    "    df['EMA_high']=TA.EMA(df,8)\n",
    "    return df"
   ]
  },
  {
   "cell_type": "code",
   "execution_count": null,
   "metadata": {},
   "outputs": [],
   "source": [
    "df=candle('INFY', '15m')"
   ]
  },
  {
   "cell_type": "code",
   "execution_count": null,
   "metadata": {},
   "outputs": [],
   "source": [
    "df.tail(10)"
   ]
  },
  {
   "cell_type": "code",
   "execution_count": null,
   "metadata": {},
   "outputs": [],
   "source": []
  }
 ],
 "metadata": {
  "kernelspec": {
   "display_name": "Python 3.9.5 64-bit",
   "name": "python395jvsc74a57bd0aee8b7b246df8f9039afb4144a1f6fd8d2ca17a180786b69acc140d282b71a49"
  },
  "language_info": {
   "codemirror_mode": {
    "name": "ipython",
    "version": 3
   },
   "file_extension": ".py",
   "mimetype": "text/x-python",
   "name": "python",
   "nbconvert_exporter": "python",
   "pygments_lexer": "ipython3",
   "version": "3.9.5"
  },
  "metadata": {
   "interpreter": {
    "hash": "aee8b7b246df8f9039afb4144a1f6fd8d2ca17a180786b69acc140d282b71a49"
   }
  },
  "orig_nbformat": 2
 },
 "nbformat": 4,
 "nbformat_minor": 2
}